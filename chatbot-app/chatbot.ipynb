{
  "nbformat": 4,
  "nbformat_minor": 0,
  "metadata": {
    "colab": {
      "provenance": []
    },
    "kernelspec": {
      "name": "python3",
      "display_name": "Python 3"
    },
    "language_info": {
      "name": "python"
    }
  },
  "cells": [
    {
      "cell_type": "code",
      "execution_count": null,
      "metadata": {
        "colab": {
          "base_uri": "https://localhost:8080/"
        },
        "id": "qazJ42ubEfQw",
        "outputId": "bff59fa6-384f-4f23-a494-d92ebbfe3768"
      },
      "outputs": [
        {
          "output_type": "stream",
          "name": "stdout",
          "text": [
            "Dataset created with 20 Q&A pairs\n"
          ]
        }
      ],
      "source": [
        "import pandas as pd\n",
        "import numpy as np\n",
        "from sklearn.feature_extraction.text import TfidfVectorizer\n",
        "from sklearn.metrics.pairwise import cosine_similarity\n",
        "import re\n",
        "\n",
        "# Sample dataset - you can expand this with your own questions and answers\n",
        "data = {\n",
        "    'question': [\n",
        "        'hello',\n",
        "        'hi',\n",
        "        'how are you',\n",
        "        'what is your name',\n",
        "        'who are you',\n",
        "        'what can you do',\n",
        "        'tell me a joke',\n",
        "        'what is machine learning',\n",
        "        'how does python work',\n",
        "        'what is artificial intelligence',\n",
        "        'goodbye',\n",
        "        'bye',\n",
        "        'see you later',\n",
        "        'thanks',\n",
        "        'thank you',\n",
        "        'what time is it',\n",
        "        'how old are you',\n",
        "        'where are you from',\n",
        "        'what is your purpose',\n",
        "        'do you like music'\n",
        "    ],\n",
        "    'answer': [\n",
        "        'Hello! How can I help you today?',\n",
        "        'Hi there! What can I do for you?',\n",
        "        'I am just a chatbot, but I am functioning well! How about you?',\n",
        "        'I am a chatbot created to help answer your questions!',\n",
        "        'I am an AI chatbot designed to assist with information and conversations.',\n",
        "        'I can answer questions, have conversations, and provide information on various topics.',\n",
        "        'Why did the chatbot cross the road? To get to the other website!',\n",
        "        'Machine learning is a subset of AI that allows computers to learn without being explicitly programmed.',\n",
        "        'Python is an interpreted programming language that executes code line by line.',\n",
        "        'Artificial intelligence is the simulation of human intelligence in machines.',\n",
        "        'Goodbye! Have a great day!',\n",
        "        'Bye! Come back if you have more questions!',\n",
        "        'See you later! Take care!',\n",
        "        'You are welcome! Happy to help!',\n",
        "        'My pleasure! Let me know if you need anything else.',\n",
        "        'I am a chatbot, I do not have access to real-time clock information.',\n",
        "        'I was just created, so I am brand new!',\n",
        "        'I exist in the digital world to help users like you!',\n",
        "        'My purpose is to assist you with information and answer your questions.',\n",
        "        'I do not have personal preferences, but I can talk about music!'\n",
        "    ]\n",
        "}\n",
        "\n",
        "df = pd.DataFrame(data)\n",
        "print(\"Dataset created with\", len(df), \"Q&A pairs\")"
      ]
    },
    {
      "cell_type": "code",
      "source": [
        "class SimpleChatbot:\n",
        "    def __init__(self):\n",
        "        self.vectorizer = TfidfVectorizer()\n",
        "        self.questions = []\n",
        "        self.answers = []\n",
        "        self.X = None\n",
        "\n",
        "    def train(self, questions, answers):\n",
        "        \"\"\"Train the chatbot with questions and answers\"\"\"\n",
        "        self.questions = questions\n",
        "        self.answers = answers\n",
        "\n",
        "        # Preprocess and vectorize the questions\n",
        "        processed_questions = [self.preprocess_text(q) for q in questions]\n",
        "        self.X = self.vectorizer.fit_transform(processed_questions)\n",
        "        print(f\"Chatbot trained with {len(questions)} Q&A pairs\")\n",
        "\n",
        "    def preprocess_text(self, text):\n",
        "        \"\"\"Basic text preprocessing\"\"\"\n",
        "        text = text.lower()\n",
        "        text = re.sub(r'[^\\w\\s]', '', text)  # Remove punctuation\n",
        "        return text\n",
        "\n",
        "    def get_response(self, user_input, threshold=0.3):\n",
        "        \"\"\"Get response for user input\"\"\"\n",
        "        if self.X is None:\n",
        "            return \"Chatbot not trained yet. Please train with data first.\"\n",
        "\n",
        "        # Preprocess user input\n",
        "        processed_input = self.preprocess_text(user_input)\n",
        "\n",
        "        # Vectorize user input\n",
        "        input_vector = self.vectorizer.transform([processed_input])\n",
        "\n",
        "        # Calculate similarity with all questions\n",
        "        similarities = cosine_similarity(input_vector, self.X)\n",
        "\n",
        "        # Find the best match\n",
        "        best_match_idx = np.argmax(similarities)\n",
        "        best_similarity = similarities[0, best_match_idx]\n",
        "\n",
        "        # Return answer if similarity is above threshold\n",
        "        if best_similarity > threshold:\n",
        "            return self.answers[best_match_idx]\n",
        "        else:\n",
        "            return \"I'm not sure how to answer that. Can you try rephrasing your question?\"\n",
        "\n",
        "    def add_qna(self, question, answer):\n",
        "        \"\"\"Add new Q&A pair to the chatbot\"\"\"\n",
        "        self.questions.append(question)\n",
        "        self.answers.append(answer)\n",
        "\n",
        "        # Retrain with new data\n",
        "        processed_questions = [self.preprocess_text(q) for q in self.questions]\n",
        "        self.X = self.vectorizer.fit_transform(processed_questions)\n",
        "        print(f\"Added new Q&A pair. Total pairs: {len(self.questions)}\")"
      ],
      "metadata": {
        "id": "fk7q_JK_EtuD"
      },
      "execution_count": null,
      "outputs": []
    },
    {
      "cell_type": "code",
      "source": [
        "# Create and train the chatbot\n",
        "chatbot = SimpleChatbot()\n",
        "chatbot.train(df['question'].tolist(), df['answer'].tolist())\n",
        "\n",
        "# Test the chatbot\n",
        "def chat_with_bot():\n",
        "    print(\"Chatbot: Hello! I'm your assistant. Type 'quit' to exit.\")\n",
        "\n",
        "    while True:\n",
        "        user_input = input(\"\\nYou: \")\n",
        "\n",
        "        if user_input.lower() in ['quit', 'exit', 'bye']:\n",
        "            print(\"Chatbot: Goodbye!\")\n",
        "            break\n",
        "\n",
        "        response = chatbot.get_response(user_input)\n",
        "        print(f\"Chatbot: {response}\")\n",
        "\n",
        "# Start chatting\n",
        "chat_with_bot()"
      ],
      "metadata": {
        "colab": {
          "base_uri": "https://localhost:8080/"
        },
        "id": "TdLaQ3TJEz7_",
        "outputId": "1f9762c3-d167-4b87-cd64-c050dce51166"
      },
      "execution_count": null,
      "outputs": [
        {
          "output_type": "stream",
          "name": "stdout",
          "text": [
            "Chatbot trained with 20 Q&A pairs\n",
            "Chatbot: Hello! I'm your assistant. Type 'quit' to exit.\n",
            "\n",
            "You: quit\n",
            "Chatbot: Goodbye!\n"
          ]
        }
      ]
    },
    {
      "cell_type": "code",
      "source": [
        "class EnhancedChatbot(SimpleChatbot):\n",
        "    def __init__(self):\n",
        "        super().__init__()\n",
        "        self.greetings = ['hello', 'hi', 'hey', 'hola']\n",
        "        self.goodbyes = ['bye', 'goodbye', 'see you', 'farewell']\n",
        "\n",
        "    def get_response(self, user_input, threshold=0.3):\n",
        "        \"\"\"Enhanced response method with special cases\"\"\"\n",
        "        processed_input = self.preprocess_text(user_input)\n",
        "\n",
        "        # Check for greetings\n",
        "        if any(greeting in processed_input for greeting in self.greetings):\n",
        "            return \"Hello! How can I assist you today?\"\n",
        "\n",
        "        # Check for goodbyes\n",
        "        if any(goodbye in processed_input for goodbye in self.goodbyes):\n",
        "            return \"Goodbye! Feel free to come back if you have more questions!\"\n",
        "\n",
        "        # Check for thanks\n",
        "        if 'thank' in processed_input:\n",
        "            return \"You're welcome! Happy to help!\"\n",
        "\n",
        "        # Use parent class method for other queries\n",
        "        return super().get_response(user_input, threshold)\n",
        "\n",
        "    def interactive_learning(self):\n",
        "        \"\"\"Allow the chatbot to learn new Q&A pairs interactively\"\"\"\n",
        "        print(\"\\nInteractive Learning Mode - Type 'stop' to exit learning\")\n",
        "\n",
        "        while True:\n",
        "            question = input(\"\\nEnter a new question: \")\n",
        "            if question.lower() == 'stop':\n",
        "                break\n",
        "\n",
        "            answer = input(\"Enter the answer: \")\n",
        "            if answer.lower() == 'stop':\n",
        "                break\n",
        "\n",
        "            self.add_qna(question, answer)\n",
        "            print(\"New Q&A pair added successfully!\")\n",
        "\n",
        "# Usage of enhanced chatbot\n",
        "enhanced_bot = EnhancedChatbot()\n",
        "enhanced_bot.train(df['question'].tolist(), df['answer'].tolist())\n",
        "\n",
        "# Test enhanced chatbot\n",
        "print(\"Testing enhanced chatbot:\")\n",
        "test_questions = [\n",
        "    \"hello there\",\n",
        "    \"what is your name\",\n",
        "    \"what is machine learning\",\n",
        "    \"thank you very much\",\n",
        "    \"goodbye my friend\",\n",
        "    \"what is the meaning of life\"  # This should trigger default response\n",
        "]\n",
        "\n",
        "for question in test_questions:\n",
        "    response = enhanced_bot.get_response(question)\n",
        "    print(f\"Q: {question}\")\n",
        "    print(f\"A: {response}\\n\")"
      ],
      "metadata": {
        "colab": {
          "base_uri": "https://localhost:8080/"
        },
        "id": "79w6be4GE3r9",
        "outputId": "15ed223b-dc72-493c-be13-5f26feef762a"
      },
      "execution_count": null,
      "outputs": [
        {
          "output_type": "stream",
          "name": "stdout",
          "text": [
            "Chatbot trained with 20 Q&A pairs\n",
            "Testing enhanced chatbot:\n",
            "Q: hello there\n",
            "A: Hello! How can I assist you today?\n",
            "\n",
            "Q: what is your name\n",
            "A: I am a chatbot created to help answer your questions!\n",
            "\n",
            "Q: what is machine learning\n",
            "A: Hello! How can I assist you today?\n",
            "\n",
            "Q: thank you very much\n",
            "A: You're welcome! Happy to help!\n",
            "\n",
            "Q: goodbye my friend\n",
            "A: Goodbye! Feel free to come back if you have more questions!\n",
            "\n",
            "Q: what is the meaning of life\n",
            "A: I am a chatbot created to help answer your questions!\n",
            "\n"
          ]
        }
      ]
    },
    {
      "cell_type": "code",
      "source": [
        "# Save dataset to CSV\n",
        "df.to_csv('chatbot_dataset.csv', index=False)\n",
        "print(\"Dataset saved to 'chatbot_dataset.csv'\")\n",
        "\n",
        "# Load dataset from CSV\n",
        "def load_dataset_from_csv(file_path):\n",
        "    try:\n",
        "        df_loaded = pd.read_csv(file_path)\n",
        "        return df_loaded['question'].tolist(), df_loaded['answer'].tolist()\n",
        "    except FileNotFoundError:\n",
        "        print(\"Dataset file not found. Using default dataset.\")\n",
        "        return df['question'].tolist(), df['answer'].tolist()\n",
        "\n",
        "# Load and train from CSV\n",
        "questions, answers = load_dataset_from_csv('chatbot_dataset.csv')\n",
        "chatbot_from_file = SimpleChatbot()\n",
        "chatbot_from_file.train(questions, answers)"
      ],
      "metadata": {
        "colab": {
          "base_uri": "https://localhost:8080/"
        },
        "id": "l7Kmjo88FQ6n",
        "outputId": "d07151f4-bc78-4d5d-fb49-54950c81c0e1"
      },
      "execution_count": null,
      "outputs": [
        {
          "output_type": "stream",
          "name": "stdout",
          "text": [
            "Dataset saved to 'chatbot_dataset.csv'\n",
            "Chatbot trained with 20 Q&A pairs\n"
          ]
        }
      ]
    },
    {
      "cell_type": "code",
      "source": [],
      "metadata": {
        "id": "O3n_xSR4GN0z"
      },
      "execution_count": null,
      "outputs": []
    }
  ]
}